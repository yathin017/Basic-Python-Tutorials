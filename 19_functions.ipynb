{
 "cells": [
  {
   "cell_type": "code",
   "execution_count": 1,
   "source": [
    "def percent(marks):\r\n",
    "\r\n",
    "    p=((marks[0]+marks[1]+marks[2]+marks[3])/400)*100\r\n",
    "    return p\r\n",
    "\r\n",
    "marks1=[100,100,100,100]\r\n",
    "percentage1=percent(marks1)\r\n",
    "\r\n",
    "marks2=[99,98,97,96]\r\n",
    "percentage2=percent(marks2)\r\n",
    "\r\n",
    "print(percentage1)\r\n",
    "print(percentage2)"
   ],
   "outputs": [
    {
     "output_type": "stream",
     "name": "stdout",
     "text": [
      "100.0\n",
      "97.5\n"
     ]
    }
   ],
   "metadata": {}
  },
  {
   "cell_type": "code",
   "execution_count": 2,
   "source": [
    "def greet(name):\r\n",
    "    gr=\"Hello \"+ name\r\n",
    "    return gr\r\n",
    "\r\n",
    "a=greet(\"Yathin\")\r\n",
    "print(a)\r\n",
    "\r\n",
    "def sum(number):\r\n",
    "    sumn=(number[0]+number[1])\r\n",
    "    return sumn\r\n",
    "\r\n",
    "n1=[2,3]\r\n",
    "sum1=sum(n1)\r\n",
    "print(sum1)"
   ],
   "outputs": [
    {
     "output_type": "stream",
     "name": "stdout",
     "text": [
      "Hello Yathin\n",
      "5\n"
     ]
    }
   ],
   "metadata": {}
  },
  {
   "cell_type": "code",
   "execution_count": null,
   "source": [],
   "outputs": [],
   "metadata": {}
  }
 ],
 "metadata": {
  "orig_nbformat": 4,
  "language_info": {
   "name": "python",
   "version": "3.9.4",
   "mimetype": "text/x-python",
   "codemirror_mode": {
    "name": "ipython",
    "version": 3
   },
   "pygments_lexer": "ipython3",
   "nbconvert_exporter": "python",
   "file_extension": ".py"
  },
  "kernelspec": {
   "name": "python3",
   "display_name": "Python 3.9.4 64-bit"
  },
  "interpreter": {
   "hash": "e16b9bd33e7041c0842013505aab8d96e59e427e4e0c80436ba1b7c1f34f93b5"
  }
 },
 "nbformat": 4,
 "nbformat_minor": 2
}