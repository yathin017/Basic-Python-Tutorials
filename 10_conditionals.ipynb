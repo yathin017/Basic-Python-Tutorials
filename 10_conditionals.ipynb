{
 "cells": [
  {
   "cell_type": "code",
   "execution_count": 1,
   "source": [
    "a=78\r\n",
    "if (a>45):\r\n",
    "    print(\"a is greater than 45\")\r\n",
    "if(a>58):\r\n",
    "    print(\"a is greater than 58\")\r\n",
    "elif (a<45):\r\n",
    "    print(\"a is less than 45\")\r\n",
    "else:\r\n",
    "    print(\"a is equal to 45\")"
   ],
   "outputs": [
    {
     "output_type": "stream",
     "name": "stdout",
     "text": [
      "a is greater than 45\n",
      "a is greater than 58\n"
     ]
    }
   ],
   "metadata": {}
  },
  {
   "cell_type": "code",
   "execution_count": 2,
   "source": [
    "a=int(input(\"Enter your age:\"))\r\n",
    "if a>=18:\r\n",
    "    print(\"You are major\")\r\n",
    "else:\r\n",
    "    print(\"come back when you are 18\")"
   ],
   "outputs": [
    {
     "output_type": "stream",
     "name": "stdout",
     "text": [
      "You are major\n"
     ]
    }
   ],
   "metadata": {}
  },
  {
   "cell_type": "code",
   "execution_count": 3,
   "source": [
    "a=[1,2,4,5]\r\n",
    "if 3 in a:\r\n",
    "    print(\"True\")\r\n",
    "else:\r\n",
    "    print(\"False \")"
   ],
   "outputs": [
    {
     "output_type": "stream",
     "name": "stdout",
     "text": [
      "False \n"
     ]
    }
   ],
   "metadata": {}
  },
  {
   "cell_type": "code",
   "execution_count": 4,
   "source": [
    "a=int(input(\"Enter number 1:\"))\r\n",
    "b=int(input(\"Enter number 2:\"))\r\n",
    "c=int(input(\"Enter number 3:\"))\r\n",
    "d=int(input(\"Enter number 4:\"))\r\n",
    "\r\n",
    "if a>b:\r\n",
    "    n1=a\r\n",
    "else:\r\n",
    "    n1=b\r\n",
    "\r\n",
    "if c>d:\r\n",
    "    n2=c\r\n",
    "else:\r\n",
    "    n2=d\r\n",
    "\r\n",
    "if n1>n2:\r\n",
    "    print(\"The greatest no. is\",n1)\r\n",
    "else:\r\n",
    "    print(\"The greatest no. is\",n2)"
   ],
   "outputs": [],
   "metadata": {}
  },
  {
   "cell_type": "code",
   "execution_count": null,
   "source": [],
   "outputs": [],
   "metadata": {}
  }
 ],
 "metadata": {
  "orig_nbformat": 4,
  "language_info": {
   "name": "python",
   "version": "3.9.4",
   "mimetype": "text/x-python",
   "codemirror_mode": {
    "name": "ipython",
    "version": 3
   },
   "pygments_lexer": "ipython3",
   "nbconvert_exporter": "python",
   "file_extension": ".py"
  },
  "kernelspec": {
   "name": "python3",
   "display_name": "Python 3.9.4 64-bit"
  },
  "interpreter": {
   "hash": "e16b9bd33e7041c0842013505aab8d96e59e427e4e0c80436ba1b7c1f34f93b5"
  }
 },
 "nbformat": 4,
 "nbformat_minor": 2
}