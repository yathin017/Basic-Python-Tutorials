{
 "cells": [
  {
   "cell_type": "code",
   "execution_count": 1,
   "source": [
    "def max(num1,num2,num3):\r\n",
    "    a=0\r\n",
    "    if num1>num2:\r\n",
    "        a=num1\r\n",
    "    elif num2>num1:\r\n",
    "        a=num2\r\n",
    "    if a>num3:\r\n",
    "        return a\r\n",
    "    else:\r\n",
    "        return num3\r\n",
    "\r\n",
    "n1=int(input(\"n1=\"))\r\n",
    "n2=int(input(\"n2=\"))\r\n",
    "n3=int(input(\"n3=\"))\r\n",
    "print(max(n1,n2,n3))"
   ],
   "outputs": [
    {
     "output_type": "stream",
     "name": "stdout",
     "text": [
      "89\n"
     ]
    }
   ],
   "metadata": {}
  },
  {
   "cell_type": "code",
   "execution_count": 2,
   "source": [
    "def sum(n):\r\n",
    "    if n==1:\r\n",
    "        return 1\r\n",
    "    else:\r\n",
    "        return n+sum(n-1)\r\n",
    "\r\n",
    "print(sum(3))"
   ],
   "outputs": [
    {
     "output_type": "stream",
     "name": "stdout",
     "text": [
      "6\n"
     ]
    }
   ],
   "metadata": {}
  },
  {
   "cell_type": "code",
   "execution_count": null,
   "source": [],
   "outputs": [],
   "metadata": {}
  }
 ],
 "metadata": {
  "orig_nbformat": 4,
  "language_info": {
   "name": "python",
   "version": "3.9.4",
   "mimetype": "text/x-python",
   "codemirror_mode": {
    "name": "ipython",
    "version": 3
   },
   "pygments_lexer": "ipython3",
   "nbconvert_exporter": "python",
   "file_extension": ".py"
  },
  "kernelspec": {
   "name": "python3",
   "display_name": "Python 3.9.4 64-bit"
  },
  "interpreter": {
   "hash": "e16b9bd33e7041c0842013505aab8d96e59e427e4e0c80436ba1b7c1f34f93b5"
  }
 },
 "nbformat": 4,
 "nbformat_minor": 2
}