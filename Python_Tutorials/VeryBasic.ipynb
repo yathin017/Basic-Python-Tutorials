{
 "metadata": {
  "language_info": {
   "codemirror_mode": {
    "name": "ipython",
    "version": 3
   },
   "file_extension": ".py",
   "mimetype": "text/x-python",
   "name": "python",
   "nbconvert_exporter": "python",
   "pygments_lexer": "ipython3",
   "version": "3.9.4"
  },
  "orig_nbformat": 2,
  "kernelspec": {
   "name": "python394jvsc74a57bd0e16b9bd33e7041c0842013505aab8d96e59e427e4e0c80436ba1b7c1f34f93b5",
   "display_name": "Python 3.9.4 64-bit"
  },
  "metadata": {
   "interpreter": {
    "hash": "e16b9bd33e7041c0842013505aab8d96e59e427e4e0c80436ba1b7c1f34f93b5"
   }
  }
 },
 "nbformat": 4,
 "nbformat_minor": 2,
 "cells": [
  {
   "source": [
    "## Exercise-1 (Print function)"
   ],
   "cell_type": "markdown",
   "metadata": {}
  },
  {
   "source": [
    "The print() function prints the specified message to the screen, or other standard output device.\n",
    "\n",
    "The message can be a string, or any other object, the object will be converted into a string before written to the screen."
   ],
   "cell_type": "markdown",
   "metadata": {}
  },
  {
   "cell_type": "code",
   "execution_count": 1,
   "metadata": {},
   "outputs": [
    {
     "output_type": "stream",
     "name": "stdout",
     "text": [
      "My name is Yathin\nIt's fun using python!!\nidk if this 'works' or 'not'\nHello World!!\nHello Again\nThis is fun.\nYay! Printing.\nI'd much rather you 'not'.\nI \"said\" do not touch this.\n"
     ]
    }
   ],
   "source": [
    "print(\"My name is Yathin\")\n",
    "print(\"It's fun using python!!\")\n",
    "print(\"idk if this 'works' or 'not'\")\n",
    "\n",
    "print(\"Hello World!!\")\n",
    "print(\"Hello Again\")\n",
    "print(\"This is fun.\")\n",
    "print('Yay! Printing.')\n",
    "print(\"I'd much rather you 'not'.\")\n",
    "print('I \"said\" do not touch this.')"
   ]
  },
  {
   "source": [
    "## Exercise-2 (Comments)"
   ],
   "cell_type": "markdown",
   "metadata": {}
  },
  {
   "source": [
    "Comments in Python begin with a hash mark ( # ) and whitespace character and continue to the end of the line. Because comments do not execute, when you run a program you will not see any indication of the comment there. Comments are in the source code for humans to read, not for computers to execute."
   ],
   "cell_type": "markdown",
   "metadata": {}
  },
  {
   "cell_type": "code",
   "execution_count": 2,
   "metadata": {},
   "outputs": [
    {
     "output_type": "stream",
     "name": "stdout",
     "text": [
      "I could have code like this.\nThis will run.\n"
     ]
    }
   ],
   "source": [
    "# This is the comment I'm add which will not be read by the compiler\n",
    "# We can use comments anywhere in the code for users to understand each part of the code when they return back to the code.\n",
    "\n",
    "\n",
    "# A comment, this is so you can read your program later.\n",
    "# Anything after the # is ignored by python.\n",
    "print(\"I could have code like this.\") # and the comment after is ignored\n",
    "# You can also use a comment to \"disable\" or comment out code:\n",
    "# print(\"This won't run.\")\n",
    "print(\"This will run.\")# This is the comment I added and the this line of code prints \"This will run\""
   ]
  },
  {
   "source": [
    "## Exercise-3 (Mathematical Operations)"
   ],
   "cell_type": "markdown",
   "metadata": {}
  },
  {
   "source": [
    "Using python mathematical operations are possible and easy. We can do various operations with mathematical operators like addition, subtraction, multiplication, division and so on, we can print mathematical operations we are doing using print function.Operators are used to perform operations on variables and values."
   ],
   "cell_type": "markdown",
   "metadata": {}
  },
  {
   "cell_type": "code",
   "execution_count": 3,
   "metadata": {},
   "outputs": [
    {
     "output_type": "stream",
     "name": "stdout",
     "text": [
      "4\n6\n1.0\n3\nI will now count my chickens:\nHens 30.0\nRoosters 97\nNow I will count the eggs:\n6.75\nIs it true that 3 + 2 < 5 -7?\nFalse\nWhat is 3 + 2? 5\nWhat is 5 - 7? -2\nOh, that's why it's False.\nHow about some more.\nIs it greater? True\nIs it greater or equal? True\nIs it less or equal? False\n"
     ]
    }
   ],
   "source": [
    "print(2+2)\n",
    "print(2*3)\n",
    "print(4/4)\n",
    "print(5-2)   #These are the mathematical operations in python\n",
    "\n",
    "\n",
    "print(\"I will now count my chickens:\")\n",
    "print(\"Hens\", 25 + 30 / 6)\n",
    "print(\"Roosters\", 100 - 25 * 3 % 4)\n",
    "print(\"Now I will count the eggs:\")\n",
    "print(3 + 2 + 1 - 5 + 4 % 2 - 1 / 4 + 6)\n",
    "print(\"Is it true that 3 + 2 < 5 -7?\")\n",
    "print(3 + 2 < 5 - 7)\n",
    "print(\"What is 3 + 2?\", 3 + 2)\n",
    "print(\"What is 5 - 7?\", 5 - 7)\n",
    "print(\"Oh, that's why it's False.\")\n",
    "print(\"How about some more.\")\n",
    "print(\"Is it greater?\", 5 > -2)\n",
    "print(\"Is it greater or equal?\", 5 >= -2)\n",
    "print(\"Is it less or equal?\", 5 <= -2)"
   ]
  },
  {
   "source": [
    "## Exercise-4 (Variables and Names)"
   ],
   "cell_type": "markdown",
   "metadata": {}
  },
  {
   "source": [
    "Variables are very important in python. They make our code easy.In the below example there are total 100 no. of cars instead of writing 100 everytime we can just use the variable \"cars\" so in future the total no. of cars increased to 150 we can change the value in variable instead of changing everywhere.\n",
    "Rules for variable names:\n",
    "A variable name must start with a letter or the underscore character\n",
    "A variable name cannot start with a number\n",
    "A variable name can only contain alpha-numeric characters and underscores (A-z, 0-9, and _ )\n",
    "Variable names are case-sensitive (age, Age and AGE are three different variables)"
   ],
   "cell_type": "markdown",
   "metadata": {}
  },
  {
   "cell_type": "code",
   "execution_count": 4,
   "metadata": {},
   "outputs": [
    {
     "output_type": "stream",
     "name": "stdout",
     "text": [
      "7\n20000\nThere are 100 cars available.\nThere are only 30 drivers available.\nThere will be 70 empty cars today.\nWe can transport 120.0 people today.\nWe have 90 to carpool today.\nWe need to put about 3.0 in each car.\n"
     ]
    }
   ],
   "source": [
    "x=5\n",
    "y=2\n",
    "z=x+y\n",
    "print(z)\n",
    "\n",
    "m=100\n",
    "n=200\n",
    "print(m*n)\n",
    "\n",
    "cars = 100\n",
    "space_in_a_car = 4.0\n",
    "drivers = 30\n",
    "passengers = 90\n",
    "cars_not_driven = cars - drivers\n",
    "cars_driven = drivers\n",
    "carpool_capacity = cars_driven * space_in_a_car\n",
    "average_passengers_per_car = passengers / cars_driven\n",
    "print(\"There are\", cars, \"cars available.\")\n",
    "print(\"There are only\", drivers, \"drivers available.\")\n",
    "print(\"There will be\", cars_not_driven, \"empty cars today.\")\n",
    "print(\"We can transport\", carpool_capacity, \"people today.\")\n",
    "print(\"We have\", passengers, \"to carpool today.\")\n",
    "print(\"We need to put about\", average_passengers_per_car,\"in each car.\")"
   ]
  },
  {
   "source": [
    "## Exercise-5 (More variables and printing)"
   ],
   "cell_type": "markdown",
   "metadata": {}
  },
  {
   "source": [
    "Declaring strings as variables can make it easier for us to work with strings throughout our Python programs. To store a string inside a variable, we simply need to assign a variable to a string. In this case let's declare my_str as our variable: my_str = \"This code is executed by Yathin\""
   ],
   "cell_type": "markdown",
   "metadata": {}
  },
  {
   "cell_type": "code",
   "execution_count": 5,
   "metadata": {},
   "outputs": [
    {
     "output_type": "stream",
     "name": "stdout",
     "text": [
      "My name is Yathin\nThere are 500 apples in the carton\nWho executed this code? Ans:This code is executed by Yathin\nLet's talk about Zed A. Shaw.\nHe's 74 inches tall.\nHe's 180 pounds heavy.\nActually that's not too heavy.\nHe's got Blue eyes and Brown hair.\nHis teeth are usually White depending on the coffee.\nIf I add 35, 74, and 180 I get 289.\n"
     ]
    }
   ],
   "source": [
    "name=\"Yathin\"\n",
    "print(f\"My name is {name}\")\n",
    "\n",
    "apples=500\n",
    "print(f\"There are {apples} apples in the carton\")\n",
    "\n",
    "my_str=\"This code is executed by Yathin\"\n",
    "print(f\"Who executed this code? Ans:{my_str}\")\n",
    "\n",
    "my_name = 'Zed A. Shaw'\n",
    "my_age = 35 # not a lie\n",
    "my_height = 74 # inches\n",
    "my_weight = 180 # lbs\n",
    "my_eyes = 'Blue'\n",
    "my_teeth = 'White'\n",
    "my_hair = 'Brown'\n",
    "print(f\"Let's talk about {my_name}.\")\n",
    "print(f\"He's {my_height} inches tall.\")\n",
    "print(f\"He's {my_weight} pounds heavy.\")\n",
    "print(\"Actually that's not too heavy.\")\n",
    "print(f\"He's got {my_eyes} eyes and {my_hair} hair.\")\n",
    "print(f\"His teeth are usually {my_teeth} depending on the coffee.\")\n",
    "# this line is tricky, try to get it exactly right\n",
    "total = my_age + my_height + my_weight\n",
    "print(f\"If I add {my_age}, {my_height}, and {my_weight} I get {total}.\")"
   ]
  },
  {
   "cell_type": "code",
   "execution_count": null,
   "metadata": {},
   "outputs": [],
   "source": []
  },
  {
   "cell_type": "code",
   "execution_count": null,
   "metadata": {},
   "outputs": [],
   "source": []
  }
 ]
}