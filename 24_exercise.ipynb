{
 "cells": [
  {
   "cell_type": "code",
   "execution_count": 1,
   "source": [
    "#Problem 1----------------------------------------------------------------------------------------------------\r\n",
    "\r\n",
    "f=open(\"24_rhyme.txt\",\"r\")\r\n",
    "data=f.read()\r\n",
    "print(data)\r\n",
    "if \"twinkle\" in data:\r\n",
    "    print(\"Present\")\r\n",
    "else:\r\n",
    "    print(\"Not Present\")\r\n",
    "f.close()"
   ],
   "outputs": [
    {
     "output_type": "stream",
     "name": "stdout",
     "text": [
      "twinkle twinkle litte star\n",
      "Present\n"
     ]
    }
   ],
   "metadata": {}
  },
  {
   "cell_type": "code",
   "execution_count": 2,
   "source": [
    "#Problem 2----------------------------------------------------------------------------------------------------\r\n",
    "\r\n",
    "def game():\r\n",
    "    return 65\r\n",
    "\r\n",
    "score = game()\r\n",
    "with open(\"24_highscore.txt\") as f:\r\n",
    "    hiscore=int(f.read())\r\n",
    "\r\n",
    "if score>hiscore:\r\n",
    "    with open(\"24_highscore.txt\",\"w\") as f:\r\n",
    "        f.write(str(score))"
   ],
   "outputs": [],
   "metadata": {}
  },
  {
   "cell_type": "code",
   "execution_count": 3,
   "source": [
    "#Problem 3----------------------------------------------------------------------------------------------------\r\n",
    "\r\n",
    "for i in range(2,21):\r\n",
    "    with open(f\"24_tables/24_multiplications_of_{i}.txt\",\"w\") as f:\r\n",
    "        for j in range(1,11):\r\n",
    "            f.write(f\"{i}x{j}={i*j}\\n\")"
   ],
   "outputs": [],
   "metadata": {}
  },
  {
   "cell_type": "code",
   "execution_count": 4,
   "source": [
    "#Problem 4----------------------------------------------------------------------------------------------------\r\n",
    "\r\n",
    "with open(\"24_donkey.txt\") as f:\r\n",
    "    content=f.read()\r\n",
    "\r\n",
    "content=content.replace(\"donkey\",\"$^#@$^#\")\r\n",
    "\r\n",
    "with open(\"24_donkey.txt\",\"w\") as f:\r\n",
    "    f.write(content)"
   ],
   "outputs": [],
   "metadata": {}
  },
  {
   "cell_type": "code",
   "execution_count": 5,
   "source": [
    "#Problem 5----------------------------------------------------------------------------------------------------\r\n",
    "\r\n",
    "words=[\"donkey\",\"mad\",\"stupid\",\"idiot\"]\r\n",
    "with open(\"24_words.txt\") as f:\r\n",
    "    content=f.read()\r\n",
    "\r\n",
    "for word in words:\r\n",
    "    content=content.replace(word,\"#####\")\r\n",
    "\r\n",
    "with open(\"24_words.txt\",\"w\") as f:\r\n",
    "    f.write(content)"
   ],
   "outputs": [],
   "metadata": {}
  },
  {
   "cell_type": "code",
   "execution_count": 6,
   "source": [
    "#Problem 7----------------------------------------------------------------------------------------------------\r\n",
    "\r\n",
    "with open(\"24_log.txt\") as f:\r\n",
    "    content=f.read()\r\n",
    "\r\n",
    "with open(\"24_copy.txt\",\"w\") as f:\r\n",
    "    f.write(content)"
   ],
   "outputs": [],
   "metadata": {}
  },
  {
   "cell_type": "code",
   "execution_count": 7,
   "source": [
    "#Problem 8----------------------------------------------------------------------------------------------------\r\n",
    "\r\n",
    "with open(\"24_log.txt\") as f:\r\n",
    "    content=f.read()\r\n",
    "with open(\"24_copy.txt\") as f:\r\n",
    "    data=f.read()\r\n",
    "if content==data:\r\n",
    "    print(\"Identical\")\r\n",
    "else:\r\n",
    "    print(\"None\")"
   ],
   "outputs": [
    {
     "output_type": "stream",
     "name": "stdout",
     "text": [
      "Identical\n"
     ]
    }
   ],
   "metadata": {}
  },
  {
   "cell_type": "code",
   "execution_count": 8,
   "source": [
    "#Problem 9----------------------------------------------------------------------------------------------------\r\n",
    "\r\n",
    "import os\r\n",
    "\r\n",
    "oldname=\"24_sample.txt\"\r\n",
    "newname=\"24_renamed_by_python\"\r\n",
    "\r\n",
    "with open(oldname) as f:\r\n",
    "    content=f.read()\r\n",
    "with open(newname,\"w\") as f:\r\n",
    "    f.write(content)\r\n",
    "\r\n",
    "#os.remove(oldname)     # Removes 24_sample.txt"
   ],
   "outputs": [],
   "metadata": {}
  }
 ],
 "metadata": {
  "orig_nbformat": 4,
  "language_info": {
   "name": "python",
   "version": "3.9.4",
   "mimetype": "text/x-python",
   "codemirror_mode": {
    "name": "ipython",
    "version": 3
   },
   "pygments_lexer": "ipython3",
   "nbconvert_exporter": "python",
   "file_extension": ".py"
  },
  "kernelspec": {
   "name": "python3",
   "display_name": "Python 3.9.4 64-bit"
  },
  "interpreter": {
   "hash": "e16b9bd33e7041c0842013505aab8d96e59e427e4e0c80436ba1b7c1f34f93b5"
  }
 },
 "nbformat": 4,
 "nbformat_minor": 2
}