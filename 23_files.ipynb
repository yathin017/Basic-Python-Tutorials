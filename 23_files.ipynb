{
 "cells": [
  {
   "cell_type": "code",
   "execution_count": 1,
   "source": [
    "# Reading a file\r\n",
    "\r\n",
    "f = open(\"23_read.txt\",\"r\")   # here r indicates read\r\n",
    "data = f.read()\r\n",
    "#data = f.read()                 # reads no. of characters\r\n",
    "#data = f.readline()             # reads 1st line, again the command then the others...\r\n",
    "print(data)\r\n",
    "f.close()"
   ],
   "outputs": [
    {
     "output_type": "stream",
     "name": "stdout",
     "text": [
      "Reading this file...\n",
      "You are reading this file using python code...\n"
     ]
    }
   ],
   "metadata": {}
  },
  {
   "cell_type": "markdown",
   "source": [
    "### r -> open for reading\r\n",
    "### w -> open for writing\r\n",
    "### a -> open for appending\r\n",
    "### + -> open for updating\r\n",
    "\r\n",
    "### 'rb' will open for reading in binary mode\r\n",
    "### 'rt' will open for reading in text mode"
   ],
   "metadata": {}
  },
  {
   "cell_type": "code",
   "execution_count": 2,
   "source": [
    "# Writing a file\r\n",
    "\r\n",
    "f=open(\"23_write.txt\",\"w\")\r\n",
    "f.write(\"\\n I am writing\")\r\n",
    "f.close()"
   ],
   "outputs": [],
   "metadata": {}
  },
  {
   "cell_type": "code",
   "execution_count": 3,
   "source": [
    "# Appending a file\r\n",
    "\r\n",
    "f=open(\"23_write.txt\",\"a\")\r\n",
    "f.write(\"\\n I am writing again...\")\r\n",
    "f.close()"
   ],
   "outputs": [],
   "metadata": {}
  },
  {
   "cell_type": "code",
   "execution_count": 4,
   "source": [
    "# Opening and closing using with statement\r\n",
    "\r\n",
    "with open(\"23_new.txt\") as f:\r\n",
    "    a=f.read()                     # Automatically opens and closes using with statement\r\n",
    "    print(a)"
   ],
   "outputs": [
    {
     "output_type": "stream",
     "name": "stdout",
     "text": [
      "Reading this file using with statement\n"
     ]
    }
   ],
   "metadata": {}
  }
 ],
 "metadata": {
  "orig_nbformat": 4,
  "language_info": {
   "name": "python",
   "version": "3.9.4",
   "mimetype": "text/x-python",
   "codemirror_mode": {
    "name": "ipython",
    "version": 3
   },
   "pygments_lexer": "ipython3",
   "nbconvert_exporter": "python",
   "file_extension": ".py"
  },
  "kernelspec": {
   "name": "python3",
   "display_name": "Python 3.9.4 64-bit"
  },
  "interpreter": {
   "hash": "e16b9bd33e7041c0842013505aab8d96e59e427e4e0c80436ba1b7c1f34f93b5"
  }
 },
 "nbformat": 4,
 "nbformat_minor": 2
}