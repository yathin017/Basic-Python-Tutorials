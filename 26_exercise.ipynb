{
 "metadata": {
  "language_info": {
   "codemirror_mode": {
    "name": "ipython",
    "version": 3
   },
   "file_extension": ".py",
   "mimetype": "text/x-python",
   "name": "python",
   "nbconvert_exporter": "python",
   "pygments_lexer": "ipython3",
   "version": "3.9.4"
  },
  "orig_nbformat": 2,
  "kernelspec": {
   "name": "python394jvsc74a57bd0e16b9bd33e7041c0842013505aab8d96e59e427e4e0c80436ba1b7c1f34f93b5",
   "display_name": "Python 3.9.4 64-bit"
  },
  "metadata": {
   "interpreter": {
    "hash": "e16b9bd33e7041c0842013505aab8d96e59e427e4e0c80436ba1b7c1f34f93b5"
   }
  }
 },
 "nbformat": 4,
 "nbformat_minor": 2,
 "cells": [
  {
   "source": [
    "Yathin Prakash Kethepalli                                                                                        \n",
    "201000060                                                                                                        \n",
    "CSE"
   ],
   "cell_type": "markdown",
   "metadata": {}
  },
  {
   "source": [
    "## Question 1"
   ],
   "cell_type": "markdown",
   "metadata": {}
  },
  {
   "cell_type": "code",
   "execution_count": 1,
   "metadata": {},
   "outputs": [
    {
     "output_type": "stream",
     "name": "stdout",
     "text": [
      "[1, 4, 90] ['string', 'another'] [3.14, 1.0]\n"
     ]
    }
   ],
   "source": [
    "input=[1,3.14,\"string\",4,90,1.0,\"another\"]\n",
    "intval=[]\n",
    "floatval=[]\n",
    "strval=[]\n",
    "for x in input:\n",
    "    if type(x)==int:\n",
    "        intval.append(x)\n",
    "    if type(x)==float:\n",
    "        floatval.append(x)\n",
    "    if type(x)==str:\n",
    "        strval.append(x)\n",
    "print(intval,strval,floatval)"
   ]
  },
  {
   "source": [
    "## Question 2"
   ],
   "cell_type": "markdown",
   "metadata": {}
  },
  {
   "cell_type": "code",
   "execution_count": 2,
   "metadata": {},
   "outputs": [
    {
     "output_type": "stream",
     "name": "stdout",
     "text": [
      "Current date and time:\n2021-05-21 13:33:42.845023\n"
     ]
    }
   ],
   "source": [
    "import datetime\n",
    "a=datetime.datetime.now()\n",
    "print(\"Current date and time:\")\n",
    "print(a)\n"
   ]
  },
  {
   "source": [
    "## Question 3"
   ],
   "cell_type": "markdown",
   "metadata": {}
  },
  {
   "cell_type": "code",
   "execution_count": 3,
   "metadata": {},
   "outputs": [
    {
     "output_type": "stream",
     "name": "stdout",
     "text": [
      "15\n"
     ]
    }
   ],
   "source": [
    "num=12345\n",
    "num1=str(12345)\n",
    "b=int(num1[0])+int(num1[1])+int(num1[2])+int(num1[3])+int(num1[4])\n",
    "print(b)"
   ]
  },
  {
   "source": [
    "## Question 4"
   ],
   "cell_type": "markdown",
   "metadata": {}
  },
  {
   "cell_type": "code",
   "execution_count": 4,
   "metadata": {},
   "outputs": [
    {
     "output_type": "stream",
     "name": "stdout",
     "text": [
      "10001\n"
     ]
    }
   ],
   "source": [
    "def convertToBinary(n):\n",
    "   if n > 1:\n",
    "       convertToBinary(n//2)\n",
    "   print(n%2,end=\"\")\n",
    "\n",
    "dec = 17\n",
    "\n",
    "convertToBinary(dec)\n",
    "print()"
   ]
  },
  {
   "source": [
    "## Question 5"
   ],
   "cell_type": "markdown",
   "metadata": {}
  },
  {
   "cell_type": "code",
   "execution_count": 5,
   "metadata": {},
   "outputs": [
    {
     "output_type": "stream",
     "name": "stdout",
     "text": [
      "18496\n"
     ]
    }
   ],
   "source": [
    "n=17\n",
    "sum=0\n",
    "for i in range(0,n):\n",
    "    sum+=i*i*i\n",
    "print(sum)"
   ]
  },
  {
   "source": [
    "## Question 6"
   ],
   "cell_type": "markdown",
   "metadata": {}
  },
  {
   "cell_type": "code",
   "execution_count": 6,
   "metadata": {},
   "outputs": [
    {
     "output_type": "stream",
     "name": "stdout",
     "text": [
      "[1, 4, 9, 16, 25, 10000, 9801, 9604, 9409, 9216]\n"
     ]
    }
   ],
   "source": [
    "li=[]\n",
    "for i in range(1,101):\n",
    "    li.append(i**2)\n",
    "print(li[:5]+li[100:94:-1])"
   ]
  },
  {
   "source": [
    "## Question 7"
   ],
   "cell_type": "markdown",
   "metadata": {}
  },
  {
   "cell_type": "code",
   "execution_count": 7,
   "metadata": {},
   "outputs": [
    {
     "output_type": "execute_result",
     "data": {
      "text/plain": [
       "[{'color_name': 'myColor1', 'color_code': '#1234'},\n",
       " {'color_name': 'myColor2', 'color_code': '#5678'},\n",
       " {'color_name': 'myColor3', 'color_code': '#9101121'},\n",
       " {'color_name': 'myColor4', 'color_code': '#131415'}]"
      ]
     },
     "metadata": {},
     "execution_count": 7
    }
   ],
   "source": [
    "color=[\"myColor1\", \"myColor2\", \"myColor3\", \"myColor4\"]\n",
    "code=[\"#1234\",\"#5678\", \"#9101121\", \"#131415\"]\n",
    "[{'color_name': color, 'color_code': code} for color,code in zip(color,code)]"
   ]
  },
  {
   "source": [
    "## Question 8"
   ],
   "cell_type": "markdown",
   "metadata": {}
  },
  {
   "cell_type": "code",
   "execution_count": 8,
   "metadata": {},
   "outputs": [
    {
     "output_type": "stream",
     "name": "stdout",
     "text": [
      "List with maximum length of lists:\n(5, [8, 6, 5, 7, 5])\nList with minimum length of lists:\n(1, [11])\n"
     ]
    }
   ],
   "source": [
    "def maxi_list(input_list):\n",
    "    max_length = max(len(x) for x in input_list )\n",
    "    max_list = max(input_list, key = len)\n",
    "    return(max_length, max_list)\n",
    "def mini_list(input_list):\n",
    "    min_length = min(len(x) for x in input_list )\n",
    "    min_list = min(input_list, key = len)\n",
    "    return(min_length, min_list)\n",
    "list1 = [[11], [7,9], [1,2], [8,2,3,1], [8,6,5,7,5]]\n",
    "print(\"List with maximum length of lists:\")\n",
    "print(maxi_list(list1))\n",
    "print(\"List with minimum length of lists:\")\n",
    "print(mini_list(list1))"
   ]
  },
  {
   "source": [
    "## Question 9"
   ],
   "cell_type": "markdown",
   "metadata": {}
  },
  {
   "cell_type": "code",
   "execution_count": 9,
   "metadata": {},
   "outputs": [
    {
     "output_type": "stream",
     "name": "stdout",
     "text": [
      "* \n** \n*** \n**** \n***** \n**** \n*** \n** \n* \n \n"
     ]
    }
   ],
   "source": [
    "rows = 5\n",
    "for i in range(0, rows):\n",
    "    for j in range(0, i + 1):\n",
    "        print(\"*\", end='')\n",
    "    print(\" \")\n",
    "for i in range(rows, 0, -1):\n",
    "    for j in range(0, i - 1):\n",
    "        print(\"*\", end='')\n",
    "    print(\" \")\n"
   ]
  },
  {
   "cell_type": "code",
   "execution_count": null,
   "metadata": {},
   "outputs": [],
   "source": []
  }
 ]
}