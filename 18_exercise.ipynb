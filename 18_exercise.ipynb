{
 "cells": [
  {
   "cell_type": "code",
   "execution_count": 1,
   "source": [
    "# Problem 1----------------------------------------------------------------------------------------------------\r\n",
    "\r\n",
    "num=int(input(\"Enter the number for which you wanna print table:\"))\r\n",
    "for i in range(1,11):\r\n",
    "    print(str(num) + \"x\" + str(i) + \"=\",num*i)"
   ],
   "outputs": [
    {
     "output_type": "stream",
     "name": "stdout",
     "text": [
      "12x1= 12\n",
      "12x2= 24\n",
      "12x3= 36\n",
      "12x4= 48\n",
      "12x5= 60\n",
      "12x6= 72\n",
      "12x7= 84\n",
      "12x8= 96\n",
      "12x9= 108\n",
      "12x10= 120\n"
     ]
    }
   ],
   "metadata": {}
  },
  {
   "cell_type": "code",
   "execution_count": 2,
   "source": [
    "# Problem 2----------------------------------------------------------------------------------------------------\r\n",
    "\r\n",
    "n=int(input(\"Enter the number:\"))\r\n",
    "mul=1\r\n",
    "for i in range(1,n+1):\r\n",
    "    if i<=n:\r\n",
    "        mul*=i\r\n",
    "print(mul)"
   ],
   "outputs": [
    {
     "output_type": "stream",
     "name": "stdout",
     "text": [
      "6\n"
     ]
    }
   ],
   "metadata": {}
  },
  {
   "cell_type": "code",
   "execution_count": 3,
   "source": [
    "# Problem 3----------------------------------------------------------------------------------------------------\r\n",
    "\r\n",
    "n=4\r\n",
    "for i in range(n):\r\n",
    "    print(\"*\"*(i+1))"
   ],
   "outputs": [
    {
     "output_type": "stream",
     "name": "stdout",
     "text": [
      "*\n",
      "**\n",
      "***\n",
      "****\n"
     ]
    }
   ],
   "metadata": {}
  },
  {
   "cell_type": "code",
   "execution_count": 4,
   "source": [
    "# Problem 4----------------------------------------------------------------------------------------------------\r\n",
    "\r\n",
    "n=10\r\n",
    "for i in range(n):\r\n",
    "    print(\" \" * (n-i-1),end=\"\")\r\n",
    "    print(\"*\" * (2*i+1),end=\"\")\r\n",
    "    print(\" \" * (n-i-1))"
   ],
   "outputs": [
    {
     "output_type": "stream",
     "name": "stdout",
     "text": [
      "         *         \n",
      "        ***        \n",
      "       *****       \n",
      "      *******      \n",
      "     *********     \n",
      "    ***********    \n",
      "   *************   \n",
      "  ***************  \n",
      " ***************** \n",
      "*******************\n"
     ]
    }
   ],
   "metadata": {}
  },
  {
   "cell_type": "code",
   "execution_count": null,
   "source": [],
   "outputs": [],
   "metadata": {}
  }
 ],
 "metadata": {
  "orig_nbformat": 4,
  "language_info": {
   "name": "python",
   "version": "3.9.4",
   "mimetype": "text/x-python",
   "codemirror_mode": {
    "name": "ipython",
    "version": 3
   },
   "pygments_lexer": "ipython3",
   "nbconvert_exporter": "python",
   "file_extension": ".py"
  },
  "kernelspec": {
   "name": "python3",
   "display_name": "Python 3.9.4 64-bit"
  },
  "interpreter": {
   "hash": "e16b9bd33e7041c0842013505aab8d96e59e427e4e0c80436ba1b7c1f34f93b5"
  }
 },
 "nbformat": 4,
 "nbformat_minor": 2
}